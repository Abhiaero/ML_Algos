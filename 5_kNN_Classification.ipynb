{
 "cells": [
  {
   "cell_type": "markdown",
   "id": "c8a5af30",
   "metadata": {},
   "source": [
    "# k Nearest Neighbors Classification of Telugu Vowel Dataset"
   ]
  },
  {
   "cell_type": "code",
   "execution_count": 1,
   "id": "fa0fd56c",
   "metadata": {},
   "outputs": [],
   "source": [
    "def read_data(file_path):\n",
    "    data = []\n",
    "    with open(file_path, 'r') as file:\n",
    "        for line in file:\n",
    "            row = list(map(int, line.strip().split()))\n",
    "            data.append(row)\n",
    "    return data\n",
    "\n",
    "data = read_data(r\"D:\\1st_Year_QMS\\2nd_Sem\\PR\\Vowel_Data_Only.txt\")"
   ]
  },
  {
   "cell_type": "code",
   "execution_count": 2,
   "id": "ea43cd3d",
   "metadata": {},
   "outputs": [],
   "source": [
    "import numpy as np\n",
    "\n",
    "def split_data(data, train_ratio=0.8):\n",
    "    np.random.shuffle(data)\n",
    "    train_data = []\n",
    "    test_data = []\n",
    "    for label in range(1, 7):  # Assuming class labels start from 1\n",
    "        class_data = [row for row in data if row[0] == label]\n",
    "        num_train = int(train_ratio * len(class_data))\n",
    "        train_data.extend(class_data[:num_train])\n",
    "        test_data.extend(class_data[num_train:])\n",
    "    return train_data, test_data\n",
    "\n",
    "train_data, test_data = split_data(data)"
   ]
  },
  {
   "cell_type": "code",
   "execution_count": 3,
   "id": "ac3fbe4e",
   "metadata": {},
   "outputs": [
    {
     "name": "stdout",
     "output_type": "stream",
     "text": [
      "At k = 2, Accuracy = 0.7627118644067796\n",
      "At k = 5, Accuracy = 0.8870056497175142\n"
     ]
    }
   ],
   "source": [
    "import numpy as np\n",
    "\n",
    "# Function to calculate Euclidean distance between two points\n",
    "def euclidean_distance(x1, x2):\n",
    "    return np.sqrt(np.sum((np.array(x1) - np.array(x2)) ** 2))\n",
    "\n",
    "# Function to classify a single data point using KNN\n",
    "def knn_classify(x, train_data, k):\n",
    "    distances = [(row, euclidean_distance(x, row[1:])) for row in train_data]\n",
    "    sorted_distances = sorted(distances, key=lambda x: x[1])\n",
    "    k_nearest_neighbors = sorted_distances[:k]\n",
    "    labels = [neighbor[0][0] for neighbor in k_nearest_neighbors]\n",
    "    return max(set(labels), key=labels.count)\n",
    "\n",
    "# Function to classify the entire test dataset using KNN\n",
    "def classify_data(test_data, train_data, k):\n",
    "    classified_data = []\n",
    "    for row in test_data:\n",
    "        x = row[1:]\n",
    "        label = knn_classify(x, train_data, k)\n",
    "        classified_data.append([label] + x)\n",
    "    return classified_data\n",
    "\n",
    "# Calculate accuracy\n",
    "def calculate_accuracy(test_data, classified_data):\n",
    "    correct = sum(1 for true, classified in zip(test_data, classified_data) if true[0] == classified[0])\n",
    "    total = len(test_data)\n",
    "    accuracy = correct / total\n",
    "    return accuracy\n",
    "\n",
    "# Calculate distances and classify test data\n",
    "list_k = [2, 5]\n",
    "for k in list_k:\n",
    "    classified_test_data = classify_data(test_data, train_data, k)\n",
    "    accuracy = calculate_accuracy(test_data, classified_test_data)\n",
    "    print(f\"At k = {k}, Accuracy = {accuracy}\")"
   ]
  },
  {
   "cell_type": "code",
   "execution_count": 4,
   "id": "8089c2f0",
   "metadata": {},
   "outputs": [],
   "source": [
    "# Save results to Excel\n",
    "import pandas as pd\n",
    "\n",
    "def save_to_excel(test_data, classified_data, accuracy, output_file):\n",
    "    test_df = pd.DataFrame(test_data, columns=[\"Actual y\", \"x1\", \"x2\", \"x3\"])\n",
    "    classified_df = pd.DataFrame(classified_data, columns=[\"Classified y\", \"x1\", \"x2\", \"x3\"])\n",
    "    accuracy_df = pd.DataFrame({\"Accuracy\": [accuracy]})\n",
    "    \n",
    "    with pd.ExcelWriter(output_file) as writer:\n",
    "        combined_df = pd.concat([test_df, classified_df], axis=1)\n",
    "        combined_df.to_excel(writer, sheet_name=\"Classified vs Actual Data\", index=False)\n",
    "        accuracy_df.to_excel(writer, sheet_name=\"Accuracy Results\", index=False)\n",
    "\n",
    "save_path = r\"D:\\1st_Year_QMS\\2nd_Sem\\PR\\classification_results_knn.xlsx\"\n",
    "save_to_excel(test_data, classified_test_data, accuracy, save_path)"
   ]
  },
  {
   "cell_type": "code",
   "execution_count": 6,
   "id": "57b6493b",
   "metadata": {},
   "outputs": [
    {
     "name": "stdout",
     "output_type": "stream",
     "text": [
      "At 80.0% training set and k = 2, accuracy = 0.7729\n",
      "At 80.0% training set and k = 3, accuracy = 0.8554\n",
      "At 80.0% training set and k = 4, accuracy = 0.8588\n",
      "At 80.0% training set and k = 5, accuracy = 0.8599\n",
      "At 80.0% training set and k = 6, accuracy = 0.8655\n",
      "At 80.0% training set and k = 7, accuracy = 0.8469\n",
      "At 80.0% training set and k = 8, accuracy = 0.8531\n",
      "At 80.0% training set and k = 9, accuracy = 0.8446\n",
      "At 80.0% training set and k = 10, accuracy = 0.835\n",
      "At 70.0% training set and k = 2, accuracy = 0.7898\n",
      "At 70.0% training set and k = 3, accuracy = 0.8487\n",
      "At 70.0% training set and k = 4, accuracy = 0.8472\n",
      "At 70.0% training set and k = 5, accuracy = 0.8483\n",
      "At 70.0% training set and k = 6, accuracy = 0.8472\n",
      "At 70.0% training set and k = 7, accuracy = 0.8438\n",
      "At 70.0% training set and k = 8, accuracy = 0.8392\n",
      "At 70.0% training set and k = 9, accuracy = 0.8498\n",
      "At 70.0% training set and k = 10, accuracy = 0.8498\n",
      "At 60.0% training set and k = 2, accuracy = 0.7934\n",
      "At 60.0% training set and k = 3, accuracy = 0.8383\n",
      "At 60.0% training set and k = 4, accuracy = 0.8369\n",
      "At 60.0% training set and k = 5, accuracy = 0.8454\n",
      "At 60.0% training set and k = 6, accuracy = 0.8394\n",
      "At 60.0% training set and k = 7, accuracy = 0.8489\n",
      "At 60.0% training set and k = 8, accuracy = 0.8491\n",
      "At 60.0% training set and k = 9, accuracy = 0.8517\n",
      "At 60.0% training set and k = 10, accuracy = 0.844\n"
     ]
    }
   ],
   "source": [
    "split_list = [0.8, 0.7, 0.6]\n",
    "k_list = [2, 3, 4, 5, 6, 7, 8, 9, 10]\n",
    "\n",
    "for i in split_list:\n",
    "    for k in k_list:\n",
    "        tot_acc=0\n",
    "        runs = 10\n",
    "        for j in range(10):\n",
    "            train_data, test_data = split_data(data, train_ratio=i)\n",
    "            classified_test_data = classify_data(test_data, train_data, k)\n",
    "            accuracy = calculate_accuracy(test_data, classified_test_data)\n",
    "            tot_acc+=accuracy  # Adding accuracies found in each run to get the average.\n",
    "        avg_acc = tot_acc/runs\n",
    "        print(f\"At {100*i}% training set and k = {k}, accuracy = {round(avg_acc, 4)}\")"
   ]
  }
 ],
 "metadata": {
  "kernelspec": {
   "display_name": "Python 3 (ipykernel)",
   "language": "python",
   "name": "python3"
  },
  "language_info": {
   "codemirror_mode": {
    "name": "ipython",
    "version": 3
   },
   "file_extension": ".py",
   "mimetype": "text/x-python",
   "name": "python",
   "nbconvert_exporter": "python",
   "pygments_lexer": "ipython3",
   "version": "3.9.12"
  }
 },
 "nbformat": 4,
 "nbformat_minor": 5
}
